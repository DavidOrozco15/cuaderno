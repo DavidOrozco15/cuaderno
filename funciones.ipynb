{
 "cells": [
  {
   "cell_type": "markdown",
   "metadata": {},
   "source": [
    "# Funciones\n",
    "\n",
    "**Sintaxis:**\n",
    "\n",
    "def nombreFuncion(parametros):\n",
    "    # instrucciones\n",
    "    [return valor_de_retorno]\n"
   ]
  },
  {
   "cell_type": "code",
   "execution_count": 1,
   "metadata": {},
   "outputs": [
    {
     "name": "stdout",
     "output_type": "stream",
     "text": [
      "La suma es: 13\n",
      "La resta es: -3\n"
     ]
    }
   ],
   "source": [
    "#Ejemplo:\n",
    "# Hacer las funciones que sumen y resten dos numeros\n",
    "\n",
    "def suma(num1, num2):\n",
    "    resultado = num1 + num2\n",
    "    return resultado\n",
    "\n",
    "def resta(num1, num2):\n",
    "    resultado = num1 - num2\n",
    "    return resultado\n",
    "\n",
    "a = 5\n",
    "b = 8\n",
    "print(\"La suma es:\", suma(a, b))\n",
    "print(\"La resta es:\", resta(a, b))"
   ]
  },
  {
   "cell_type": "code",
   "execution_count": 2,
   "metadata": {},
   "outputs": [
    {
     "name": "stdout",
     "output_type": "stream",
     "text": [
      "120\n"
     ]
    }
   ],
   "source": [
    "# Ejemplo:\n",
    "# Hacer una funcion que me calcile el factorial de un numero\n",
    "\n",
    "def factorial(num):\n",
    "    if num < 0:\n",
    "        return -1\n",
    "    elif num == 0:\n",
    "        return 1\n",
    "    else:\n",
    "        f = 1\n",
    "        for i in range(1, num+1):\n",
    "            f = f * i\n",
    "        \n",
    "        return f\n",
    "    \n",
    "print(factorial(5))"
   ]
  },
  {
   "cell_type": "code",
   "execution_count": 3,
   "metadata": {},
   "outputs": [
    {
     "name": "stdout",
     "output_type": "stream",
     "text": [
      "10\n"
     ]
    }
   ],
   "source": [
    "# Ejemplo:\n",
    "# calcular la formula combinatoria de dos numeros\n",
    "# C(n, k) = n! / (k! * (n-k)!)\n",
    "\n",
    "def factorial(num):\n",
    "    if num < 0:\n",
    "        return -1\n",
    "    elif num == 0:\n",
    "        return 1\n",
    "    else:\n",
    "        f = 1\n",
    "        for i in range(1, num+1):\n",
    "            f = f * i\n",
    "        \n",
    "        return f\n",
    "    \n",
    "def combinatoria(n, k):\n",
    "    resultado = factorial(n) // (factorial(k) * factorial(n - k))\n",
    "    return resultado\n",
    "\n",
    "print(combinatoria(5, 3))"
   ]
  },
  {
   "cell_type": "code",
   "execution_count": 7,
   "metadata": {},
   "outputs": [
    {
     "name": "stdout",
     "output_type": "stream",
     "text": [
      "1 \n",
      "1 1 \n",
      "1 2 1 \n",
      "1 3 3 1 \n",
      "1 4 6 4 1 \n"
     ]
    }
   ],
   "source": [
    "# Ejercicio:\n",
    "# Desarrollar el triangulo de pascal\n",
    "\n",
    "def factorial(num):\n",
    "    if num < 0:\n",
    "        return -1\n",
    "    elif num == 0:\n",
    "        return 1\n",
    "    else:\n",
    "        f = 1\n",
    "        for i in range(1, num+1):\n",
    "            f = f * i\n",
    "        \n",
    "        return f\n",
    "    \n",
    "def combinatoria(n, k):\n",
    "    if n>= k:\n",
    "        resultado = factorial(n) // (factorial(k) * factorial(n - k))\n",
    "    else:\n",
    "        resultado = -0\n",
    "    return resultado\n",
    "\n",
    "def trianguloPascal(n):\n",
    "    if n < 1:\n",
    "        print(\"No se puede calcular\")\n",
    "    else:\n",
    "        for fila in range(n):\n",
    "            for col in range(fila + 1):\n",
    "                print(combinatoria(fila, col), end=\" \")\n",
    "            print(\"\")\n",
    "\n",
    "trianguloPascal(5)"
   ]
  },
  {
   "cell_type": "code",
   "execution_count": null,
   "metadata": {},
   "outputs": [
    {
     "name": "stdout",
     "output_type": "stream",
     "text": [
      "14.444444444444445\n",
      "136.4\n"
     ]
    }
   ],
   "source": [
    "# Ejercicio:\n",
    "# haga dos funciones que conviertan grados celsius a fahrenheit y viceversa\n",
    "\n",
    "def conversorFarenheit(celsius):\n",
    "    fahrenheit = celsius * 9/5 + 32\n",
    "    return fahrenheit\n",
    "\n",
    "def conversorCelsius(fahrenheit):\n",
    "    celsius = (fahrenheit - 32) * 5/9\n",
    "    return celsius\n",
    "\n",
    "\n",
    "print(conversorCelsius(100))\n",
    "print(conversorFarenheit(37))\n",
    "\n"
   ]
  },
  {
   "cell_type": "markdown",
   "metadata": {},
   "source": [
    "# Software review\n",
    "# Haga un programa que muestre el siguiente menú y ejecute la opción que el usuario escoja\n",
    "\"\"\"\n",
    "** MENU **\n",
    "1. Sumar\n",
    "2. Restar\n",
    "3. Factorial\n",
    "4. Combinatorias\n",
    "5. Triángulo de Pascal\n",
    "6. Celsius a Fahrenheit\n",
    "7. Fahrenheit a Celsius\n",
    "? Opción ?\n",
    "\"\"\"\n",
    "\n",
    "# para cada ocasión valide la entrada del usuario (crea funciones que validen la entrada de los usuario)\n",
    "# todos los números de entrada son números enteros positivos.\n"
   ]
  }
 ],
 "metadata": {
  "kernelspec": {
   "display_name": "Python 3",
   "language": "python",
   "name": "python3"
  },
  "language_info": {
   "codemirror_mode": {
    "name": "ipython",
    "version": 3
   },
   "file_extension": ".py",
   "mimetype": "text/x-python",
   "name": "python",
   "nbconvert_exporter": "python",
   "pygments_lexer": "ipython3",
   "version": "3.10.12"
  }
 },
 "nbformat": 4,
 "nbformat_minor": 2
}
