{
 "cells": [
  {
   "cell_type": "markdown",
   "id": "61ba994e",
   "metadata": {},
   "source": [
    "1. Diseñe un algoritmo con funciones y procedimientos que indique el valor del\n",
    "descuento de un artículo el cual es del 5% solo si el artículo tiene un costo superior\n",
    "al $150.000."
   ]
  },
  {
   "cell_type": "markdown",
   "id": "a2657941",
   "metadata": {},
   "source": [
    "INICIO\n",
    "\n",
    "    PROCEDIMIENTO mostrarDescuento(costo, descuento)\n",
    "        ESCRIBIR \"El costo del artículo es: $\", costo\n",
    "        ESCRIBIR \"El descuento aplicado es: $\", descuento\n",
    "        ESCRIBIR \"El total a pagar es: $\", costo - descuento\n",
    "    FIN PROCEDIMIENTO\n",
    "\n",
    "    FUNCION calcularDescuento(costo) : REAL\n",
    "        SI costo > 150000 ENTONCES\n",
    "            RETORNAR costo * 0.05\n",
    "        SINO\n",
    "            RETORNAR 0\n",
    "        FIN SI\n",
    "    FIN FUNCION\n",
    "\n",
    "    // PROGRAMA PRINCIPAL\n",
    "    ESCRIBIR \"Ingrese el costo del artículo: \"\n",
    "    LEER costoArticulo\n",
    "\n",
    "    descuento ← calcularDescuento(costoArticulo)\n",
    "    mostrarDescuento(costoArticulo, descuento)\n",
    "FIN\n"
   ]
  },
  {
   "cell_type": "code",
   "execution_count": 2,
   "id": "8e4db545",
   "metadata": {},
   "outputs": [
    {
     "name": "stdout",
     "output_type": "stream",
     "text": [
      "El costo del articulo es: $200000\n",
      "El descuento aplicado es de: $10000.0\n",
      "El total a pagar es $190000.0\n"
     ]
    }
   ],
   "source": [
    "def mostrarDescuento(costo, descuento):\n",
    "    print(f\"El costo del articulo es: ${costo}\")\n",
    "    print(f\"El descuento aplicado es de: ${descuento}\")\n",
    "    print(f\"El total a pagar es ${costo - descuento}\")\n",
    "\n",
    "def calcularDescuento(costo):\n",
    "    if costo > 150_000:\n",
    "        return costo * 0.05\n",
    "    else:\n",
    "        return 0\n",
    "    \n",
    "costoArticulo = int(input(\"Ingrese el costo del articulo: \"))\n",
    "\n",
    "descuento = calcularDescuento(costoArticulo)\n",
    "mostrarDescuento(costoArticulo, descuento)"
   ]
  },
  {
   "cell_type": "markdown",
   "id": "41e0fdd6",
   "metadata": {},
   "source": [
    "2. Diseñe un algoritmo con funciones y procedimientos que dado un número entero\n",
    "entre 0 y 20 diga si es o no un número primo. Recuerde que los números primeros\n",
    "menores o iguales a 20 son: 2, 3, 5, 7, 11, 13, 17, 19"
   ]
  },
  {
   "cell_type": "markdown",
   "id": "a836997d",
   "metadata": {},
   "source": [
    "INICIO\n",
    "    PROCEDIMIENTO mostrarResultado(num, esPrimo)\n",
    "        SI esPrimo = VERDADERO ENTONCES\n",
    "            ESCRIBIR \"El número \", num, \" ES primo.\"\n",
    "        SINO\n",
    "            ESCRIBIR \"El número \", num, \" NO es primo.\"\n",
    "        FIN SI\n",
    "    FIN PROCEDIMIENTO\n",
    "\n",
    "    FUNCION esNumeroPrimo(num) : LOGICO\n",
    "        // Solo consideramos primos hasta 20\n",
    "        SI num = 2 O num = 3 O num = 5 O num = 7 O \n",
    "           num = 11 O num = 13 O num = 17 O num = 19 ENTONCES\n",
    "            RETORNAR VERDADERO\n",
    "        SINO\n",
    "            RETORNAR FALSO\n",
    "        FIN SI\n",
    "    FIN FUNCION\n",
    "\n",
    "    // PROGRAMA PRINCIPAL\n",
    "    ESCRIBIR \"Ingrese un número entero entre 0 y 20: \"\n",
    "    LEER numero\n",
    "\n",
    "    SI numero >= 0 Y numero <= 20 ENTONCES\n",
    "        resultado ← esNumeroPrimo(numero)\n",
    "        mostrarResultado(numero, resultado)\n",
    "    SINO\n",
    "        ESCRIBIR \"Número fuera de rango. Debe estar entre 0 y 20.\"\n",
    "    FIN SI\n",
    "FIN"
   ]
  },
  {
   "cell_type": "code",
   "execution_count": 1,
   "id": "5439e01b",
   "metadata": {},
   "outputs": [
    {
     "name": "stdout",
     "output_type": "stream",
     "text": [
      "El numero 3 es Primo\n"
     ]
    }
   ],
   "source": [
    "def mostrarResultado(num, esPrimo):\n",
    "    if esPrimo == True:\n",
    "        print(f\"El numero {num} es Primo\")\n",
    "    else:\n",
    "        print(f\"El numero {num} NO es primo\")\n",
    "\n",
    "def esNumeroPrimo(num):\n",
    "    if num == 2 or num == 3 or num == 5 or num == 7 or num == 11 or num == 13 or num == 17 or num == 19:\n",
    "        return True\n",
    "    else:\n",
    "        return False\n",
    "\n",
    "numero = int(input(\"Ingrese un numero entero entre 0 y 20\"))\n",
    "if numero >= 0 and numero <= 20:\n",
    "    resultado = esNumeroPrimo(numero)\n",
    "    mostrarResultado(numero, resultado)   "
   ]
  },
  {
   "attachments": {
    "image.png": {
     "image/png": "[encoded data removed]"
    }
   },
   "cell_type": "markdown",
   "id": "916b663b",
   "metadata": {},
   "source": [
    "3. Diseñe un pseudocódigo que permita registrar 10 estudiantes (código, nombre).\n",
    "Además del registro, deberá:\n",
    "    a. Asignar 3 notas parciales a cada estudiante.\n",
    "    b. Registrar el número de inasistencias de cada estudiante.\n",
    "    c. Mostrar el listado de estudiantes.\n",
    "    d. Calcular nota final.\n",
    "La nota final será calculada por promedio aritmético de las notas parciales y\n",
    "deberá disminuir acorde a las inasistencias, así:\n",
    "    • 10 o más inasistencias y menos de 15: -0.5\n",
    "    • 15 o más inasistencias: -1\n",
    "Al elegir la opción 4, deberá mostrar la lista de estudiantes con sus notas\n",
    "parciales, inasistencias y la nota final. Ejemplo:\n",
    "\n",
    "![image.png](attachment:image.png)"
   ]
  }
 ],
 "metadata": {
  "kernelspec": {
   "display_name": "Python 3",
   "language": "python",
   "name": "python3"
  },
  "language_info": {
   "codemirror_mode": {
    "name": "ipython",
    "version": 3
   },
   "file_extension": ".py",
   "mimetype": "text/x-python",
   "name": "python",
   "nbconvert_exporter": "python",
   "pygments_lexer": "ipython3",
   "version": "3.10.12"
  }
 },
 "nbformat": 4,
 "nbformat_minor": 5
}
