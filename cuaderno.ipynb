{
 "cells": [
  {
   "cell_type": "markdown",
   "metadata": {},
   "source": [
    "## Contadores\n",
    "Me sirve para saber cuantos elementos hay.\n",
    "\n",
    "* Empiezan en 0 : cont = 0\n",
    "* Se incrementan de 1 en 1: cont = cont + 1\n"
   ]
  },
  {
   "cell_type": "code",
   "execution_count": 32,
   "metadata": {},
   "outputs": [
    {
     "name": "stdout",
     "output_type": "stream",
     "text": [
      "Cantidad de numeros impares: 50\n",
      "Porcentaje de numeros impares: 50.00\n"
     ]
    }
   ],
   "source": [
    "# Ejemplo\n",
    "# Cree un programa que genere 100 numeros aleatorios (rango de 1 a 1000) y me indique cuantos y que porcentaje de\n",
    "# son impares\n",
    "\n",
    "import random\n",
    "\n",
    "cont = 0\n",
    "for i in range(100):\n",
    "    num = random.randint(1, 1000)\n",
    "    if num % 2 != 0:\n",
    "        cont = cont + 1\n",
    "\n",
    "porc = cont / 100 * 100\n",
    "print(\"Cantidad de numeros impares:\", cont)\n",
    "print(\"Porcentaje de numeros impares:\", \"{:.2f}\".format(porc))\n"
   ]
  },
  {
   "cell_type": "code",
   "execution_count": 33,
   "metadata": {},
   "outputs": [
    {
     "name": "stdout",
     "output_type": "stream",
     "text": [
      "Datos del estudiante 1\n",
      "Datos del estudiante 2\n",
      "Datos del estudiante 3\n",
      "Datos del estudiante 4\n",
      "Datos del estudiante 5\n",
      "Datos del estudiante 6\n",
      "Datos del estudiante 7\n",
      "Datos del estudiante 8\n",
      "Datos del estudiante 9\n",
      "Datos del estudiante 10\n",
      "Estudiantes mayores de edad: 9\n",
      "Estudiantes menores de edad: 1\n",
      "Estudiantes mujeres: 4\n",
      "Estudiantes hombres: 6\n",
      "Se debe aumentar la cuota femenina\n"
     ]
    }
   ],
   "source": [
    "# Ejemplo:\n",
    "# En un salon hay 10 estudiantes, cuente cuantos son mayores de edad, cuantos son menores de edad,\n",
    "# Mujeres y cuantos son hombres. Si hay más hombres que mujeres mostrar el mensaje de 'Se debe aumentar la\n",
    "# cuota femenina'\n",
    "\n",
    "CANTEST = 10\n",
    "contMayEdad = 0\n",
    "contMenEdad = 0\n",
    "contMujeres = 0\n",
    "contHombres = 0\n",
    "\n",
    "for i in range(CANTEST):\n",
    "    print(\"Datos del estudiante\", (i + 1))\n",
    "    edad = int(input(\"\\tEdad: \"))\n",
    "    sexo = input(\"\\tSexo (m/f)?: \")\n",
    "    \n",
    "    if edad >= 18:\n",
    "        contMayEdad = contMayEdad + 1\n",
    "    else:\n",
    "        contMenEdad = contMenEdad + 1\n",
    "        \n",
    "    if sexo == \"f\" or sexo == \"F\":\n",
    "        contMujeres = contMujeres + 1\n",
    "    else:\n",
    "        contHombres = contHombres + 1\n",
    "        \n",
    "        \n",
    "print(\"Estudiantes mayores de edad:\", contMayEdad)\n",
    "print(\"Estudiantes menores de edad:\", contMenEdad)\n",
    "print(\"Estudiantes mujeres:\", contMujeres)\n",
    "print(\"Estudiantes hombres:\", contHombres)\n",
    "print(\"Se debe aumentar la cuota femenina\") if contHombres > contMujeres else None\n"
   ]
  },
  {
   "cell_type": "markdown",
   "metadata": {},
   "source": []
  },
  {
   "cell_type": "code",
   "execution_count": null,
   "metadata": {},
   "outputs": [],
   "source": [
    "# Ejemplo:\n",
    "# Mostrar, con ciclo while, los numeros del 1 al 10\n",
    "\n",
    "num = 1\n",
    "while num <= 10:\n",
    "    print(num, end=\", \")\n",
    "    num = num + 1"
   ]
  },
  {
   "cell_type": "code",
   "execution_count": 38,
   "metadata": {},
   "outputs": [
    {
     "name": "stdout",
     "output_type": "stream",
     "text": [
      "1, 1, 2, 3, 5, 8, 13, 21, 34, 55, "
     ]
    }
   ],
   "source": [
    "# ejemplo:\n",
    "# Fibonacci fue un matematico que modelo el crecimiento de los conejos mediante la sucesion:\n",
    "# 1, 1, 2, 3, 5, 8, ...\n",
    "# donde fib(1) = 1, fib(2) = 1, fib(3)=2, fib(k) = fib(k-2)+fib(k-1)\n",
    "# Calcule el n-esimo termino de la funcion fibonacci que el usuario ingrese\n",
    "\n",
    "n = int(input(\"Ingrese el termino fibonacci a calcular: \"))\n",
    "if (n < 1):\n",
    "    print(\"Error, Entrada no valida\")\n",
    "elif n == 1:\n",
    "    print(\"1\")\n",
    "elif n == 2:\n",
    "    print(\"1, 1\")\n",
    "else:\n",
    "    ant = 1\n",
    "    sig = 1\n",
    "    temp = 0\n",
    "    print(\"1, 1\", end=\", \")\n",
    "    for i in range(3, n+1):\n",
    "        temp = sig\n",
    "        sig = ant + sig\n",
    "        ant = temp\n",
    "        print(sig, end=\", \")"
   ]
  },
  {
   "cell_type": "code",
   "execution_count": 42,
   "metadata": {},
   "outputs": [
    {
     "name": "stdout",
     "output_type": "stream",
     "text": [
      "Error, entrada no valida\n",
      "Error, entrada no valida\n",
      "Error, entrada no valida\n",
      "Error, entrada no valida\n",
      "Error, entrada no valida\n",
      "Ha ingresado correctamente su sexo:\n"
     ]
    }
   ],
   "source": [
    "# Ejemplo\n",
    "# Código que valide que el usuario haya digitado f para femenino y m para masculino; si no lo hace,\n",
    "# mostrar un mensaje de que se equivocó e intente nuevamente.\n",
    "\n",
    "sexo = input(\"Ingrese su sexo (m/f): \")\n",
    "while(sexo != \"f\" and sexo != \"m\") and (sexo != \"F\" and sexo != \"M\"):\n",
    "    print(\"Error, entrada no valida\")\n",
    "    sexo = input(\"Ingrese su sexo (m/f): \")\n",
    "\n",
    "print(\"Ha ingresado correctamente su sexo:\")\n"
   ]
  },
  {
   "cell_type": "code",
   "execution_count": 46,
   "metadata": {},
   "outputs": [
    {
     "name": "stdout",
     "output_type": "stream",
     "text": [
      "El promedio de notas es:  4.6\n",
      "La mejor nota es:  6\n",
      "La menor nota es:  3\n"
     ]
    }
   ],
   "source": [
    "# Ejemplo:\n",
    "# Un profesor ingresa cierta cantidad de notas de estudiantes (0 a 10), y quiere saber cual es la mejor nota, y la peor nota. cuando no tenga mas notas ingresara un valor menor que 1 para terminar\n",
    "\n",
    "suma = 0\n",
    "nota = int(input(\"Ingrese la nota: \"))\n",
    "cantNotas = 1\n",
    "mejorNota = nota\n",
    "peorNota = nota\n",
    "while nota >= 1:\n",
    "    \n",
    "    suma = suma + nota\n",
    "    nota = int(input(\"Ingrese la nota: \"))\n",
    "    if nota >= 1:\n",
    "        cantNotas = cantNotas + 1\n",
    "        if nota > mejorNota:\n",
    "            mejorNota = nota\n",
    "        elif nota < peorNota:\n",
    "            peorNota = nota\n",
    "            \n",
    "promedio = suma / cantNotas\n",
    "\n",
    "print(\"El promedio de notas es: \", promedio)\n",
    "print(\"La mejor nota es: \", mejorNota)\n",
    "print(\"La menor nota es: \", peorNota)\n",
    "        "
   ]
  },
  {
   "cell_type": "code",
   "execution_count": null,
   "metadata": {},
   "outputs": [
    {
     "name": "stdout",
     "output_type": "stream",
     "text": [
      "Calculo de masa de aire de neumaticos\n",
      "La masa del neumatico  1  es:  0.8245533669262484\n",
      "La masa del neumatico  1  es:  0.8245533669262484\n",
      "El promedio de la masa de los neumaticos de la moto # 1  es:  0.8351699338823803\n",
      "La masa del neumatico  2  es:  0.8245533669262484\n",
      "La masa del neumatico  2  es:  0.8245533669262484\n",
      "El promedio de la masa de los neumaticos de la moto # 2  es:  0.8351699338823803\n"
     ]
    }
   ],
   "source": [
    "\n",
    "\n",
    "\n",
    "\n",
    "\n",
    "def formula(presion, volumen, temperatura):\n",
    "    masa = presion * volumen / (0.37 * (temperatura + 460))\n",
    "    return masa\n",
    "    \n",
    "contMotos = 0\n",
    "contCarros = 0\n",
    "isActive = True\n",
    "\n",
    "while isActive:\n",
    "    \n",
    "    print(\"Calculo de masa de aire de neumaticos\")\n",
    "\n",
    "    vehiculo = input(\"Ingrese el tipo de vehiculo (moto/carro) o ingrese (salir) para terminar el caclulo: \")\n",
    "    if vehiculo == \"moto\" or vehiculo == \"MOTO\" or vehiculo == \"Moto\":\n",
    "        moto = int(input(\"Ingrese cuantas motos quiere calcular: \"))\n",
    "        for i in range(moto):\n",
    "            for j in range(2):\n",
    "                presion = float(input(\"Ingrese la presion del neumatico #\"))\n",
    "                volumen = float(input(\"Ingrese el volumen del neumatico #\"))\n",
    "                temperatura = float(input(\"Ingrese la temperatura del neumatico #\"))\n",
    "                print(\"La masa del neumatico \", (i+1), \" es: \", llanta=formula(presion, volumen, temperatura))\n",
    "            print(\"El promedio de la masa de los neumaticos de la moto #\" ,(i+1), \" es: \", formula(presion, volumen, temperatura//2))\n",
    "            contMotos = contMotos + 1\n",
    "\n",
    "\n",
    "    elif vehiculo == \"carro\" or vehiculo == \"CARRO\" or vehiculo == \"Carro\":\n",
    "        carro = int(input(\"Ingrese cuantas carros quiere calcular: \"))\n",
    "        for i in range(carro):\n",
    "            for j in range(4):\n",
    "                presion = float(input(\"Ingrese la presion del neumatico #\"))\n",
    "                volumen = float(input(\"Ingrese el volumen del neumatico #\"))\n",
    "                temperatura = float(input(\"Ingrese la temperatura del neumatico #\"))\n",
    "                print(\"La masa del neumatico \", (i+1), \" es: \", formula(presion, volumen, temperatura))\n",
    "            print(\"El promedio de la masa de los neumaticos del carro #\", (i+1), \" es: \", formula(presion, volumen, temperatura//2))\n",
    "            contCarros = contCarros + 1\n",
    "    \n",
    "    elif vehiculo == \"salir\" or vehiculo == \"SALIR\" or vehiculo == \"Salir\":\n",
    "        isActive = False\n",
    "        \n",
    "    else:\n",
    "        print(\"Tipo de vehiculo no valido, intente nuevamente\")\n",
    "        \n",
    "    print(\"Cantidad de motos calculadas: \", contMotos)\n",
    "    print(\"Cantidad de carros calculadas: \", contCarros)\n",
    "    print(contMotos + contCarros, \" vehiculos calculados\")\n",
    "    print(\"Promedio total de todas los neumaticos calculados es: \", )\n",
    "\n",
    "\n",
    "\n",
    "\n",
    "\n",
    "\n",
    "\n",
    "\n",
    "\n",
    "    \n",
    "    \n"
   ]
  },
  {
   "cell_type": "markdown",
   "metadata": {},
   "source": [
    "## Problema\n",
    "\n",
    "Construya un pseudocódigo tal que lea un número entero `N`, muestre la cantidad de términos y el resultado de la siguiente serie:\n",
    "\n",
    "\n"
   ]
  },
  {
   "cell_type": "code",
   "execution_count": null,
   "metadata": {},
   "outputs": [],
   "source": [
    "def signo(denominador):\n",
    "    if denominador % 2 == 0:\n",
    "        return -1\n",
    "    else:\n",
    "        return 1\n",
    "\n",
    "\n",
    "def mensajeError(msg):\n",
    "    print(\"Error. Valor Invalido:\")\n",
    "    input(\"Presione Enter para continuar...\")\n",
    "    print()\n",
    "\n",
    "def leerN():\n",
    "    n = int(input(\"Ingrese el valor de N: \"))\n",
    "    while n < 1:\n",
    "        mensajeError(\"Valor Invalido\")\n",
    "        n = int(input(\"Ingrese el valor de N: \"))\n",
    "    return n\n",
    "\n",
    "n=leerN()\n",
    "suma = 0\n",
    "for i in range(1, n+1):\n",
    "    suma = suma + signo() + (1/i)\n",
    "    \n",
    "print(suma)"
   ]
  },
  {
   "attachments": {
    "image-2.png": {
     "image/png": "[encoded data removed]"
    },
    "image.png": {
     "image/png": "[encoded data removed]"
    }
   },
   "cell_type": "markdown",
   "metadata": {},
   "source": [
    "## Problema\n",
    "\n",
    "En una granja se requiere saber alguna información para determinar el precio de venta por cada kilo de huevo. Es importante determinar el promedio de calidad de las `n` gallinas que hay en la granja. La calidad de cada gallina se obtiene según la fórmula:\n",
    "\n",
    "![image.png](attachment:image.png)\n",
    "\n",
    "Finalmente, para fijar el precio del kilo de huevo, se toma como base la siguiente tabla:\n",
    "\n",
    "## Tabla de Precio Total de Calidad y Peso por Kilo de Huevo\n",
    "\n",
    "![image-2.png](attachment:image-2.png)\n"
   ]
  },
  {
   "cell_type": "code",
   "execution_count": 22,
   "metadata": {},
   "outputs": [
    {
     "name": "stdout",
     "output_type": "stream",
     "text": [
      "El precio del huevo es: $ 3104.2000000000003\n"
     ]
    }
   ],
   "source": [
    "\n",
    "\n",
    "def calidadGallina():\n",
    "    peso = float(input(\"Ingrese el peso de la gallina (kg): \"))\n",
    "    altura= float(input(\"Ingrese la altura de la gallina (cm): \"))\n",
    "    numHuevos = int(input(\"Ingrese el numero de huevos que pone: \"))\n",
    "    calidad1 = (peso * altura) / numHuevos\n",
    "    return calidad1\n",
    "\n",
    "def leerCantidadGallinas():\n",
    "    n = int(input(\"Ingrese la cantidad de gallinas: \"))\n",
    "    while n < 1:\n",
    "        print(\"Error. Valor Invalido:\")\n",
    "        n = int(input(\"Ingrese la cantidad de gallinas: \"))\n",
    "    return n\n",
    "\n",
    "def calcularPrecio(promedio):\n",
    "    if promedio >= 15:\n",
    "        return 1.2 * promedio\n",
    "    elif promedio > 8 and promedio < 15:\n",
    "        return 1.00 * promedio\n",
    "    elif promedio >= 8:\n",
    "        return 0.80 * promedio\n",
    "    else:\n",
    "        return 0\n",
    "        \n",
    "\n",
    "\n",
    "n = leerCantidadGallinas()\n",
    "suma = 0\n",
    "for i in range(n):\n",
    "    suma = suma + calidadGallina()\n",
    "    \n",
    "promedio = suma / n\n",
    "precio = calcularPrecio(promedio)\n",
    "print(\"El precio del huevo es: $\", precio)"
   ]
  }
 ],
 "metadata": {
  "kernelspec": {
   "display_name": "Python 3",
   "language": "python",
   "name": "python3"
  },
  "language_info": {
   "codemirror_mode": {
    "name": "ipython",
    "version": 3
   },
   "file_extension": ".py",
   "mimetype": "text/x-python",
   "name": "python",
   "nbconvert_exporter": "python",
   "pygments_lexer": "ipython3",
   "version": "3.10.12"
  }
 },
 "nbformat": 4,
 "nbformat_minor": 2
}
