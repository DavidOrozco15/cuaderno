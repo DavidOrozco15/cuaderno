{
 "cells": [
  {
   "cell_type": "markdown",
   "metadata": {},
   "source": [
    "## Contadores\n",
    "Me sirve para saber cuantos elementos hay.\n",
    "\n",
    "* Empiezan en 0 : cont = 0\n",
    "* Se incrementan de 1 en 1: cont = cont + 1\n"
   ]
  },
  {
   "cell_type": "code",
   "execution_count": 32,
   "metadata": {},
   "outputs": [
    {
     "name": "stdout",
     "output_type": "stream",
     "text": [
      "Cantidad de numeros impares: 50\n",
      "Porcentaje de numeros impares: 50.00\n"
     ]
    }
   ],
   "source": [
    "# Ejemplo\n",
    "# Cree un programa que genere 100 numeros aleatorios (rango de 1 a 1000) y me indique cuantos y que porcentaje de\n",
    "# son impares\n",
    "\n",
    "import random\n",
    "\n",
    "cont = 0\n",
    "for i in range(100):\n",
    "    num = random.randint(1, 1000)\n",
    "    if num % 2 != 0:\n",
    "        cont = cont + 1\n",
    "\n",
    "porc = cont / 100 * 100\n",
    "print(\"Cantidad de numeros impares:\", cont)\n",
    "print(\"Porcentaje de numeros impares:\", \"{:.2f}\".format(porc))\n"
   ]
  },
  {
   "cell_type": "code",
   "execution_count": 33,
   "metadata": {},
   "outputs": [
    {
     "name": "stdout",
     "output_type": "stream",
     "text": [
      "Datos del estudiante 1\n",
      "Datos del estudiante 2\n",
      "Datos del estudiante 3\n",
      "Datos del estudiante 4\n",
      "Datos del estudiante 5\n",
      "Datos del estudiante 6\n",
      "Datos del estudiante 7\n",
      "Datos del estudiante 8\n",
      "Datos del estudiante 9\n",
      "Datos del estudiante 10\n",
      "Estudiantes mayores de edad: 9\n",
      "Estudiantes menores de edad: 1\n",
      "Estudiantes mujeres: 4\n",
      "Estudiantes hombres: 6\n",
      "Se debe aumentar la cuota femenina\n"
     ]
    }
   ],
   "source": [
    "# Ejemplo:\n",
    "# En un salon hay 10 estudiantes, cuente cuantos son mayores de edad, cuantos son menores de edad,\n",
    "# Mujeres y cuantos son hombres. Si hay más hombres que mujeres mostrar el mensaje de 'Se debe aumentar la\n",
    "# cuota femenina'\n",
    "\n",
    "CANTEST = 10\n",
    "contMayEdad = 0\n",
    "contMenEdad = 0\n",
    "contMujeres = 0\n",
    "contHombres = 0\n",
    "\n",
    "for i in range(CANTEST):\n",
    "    print(\"Datos del estudiante\", (i + 1))\n",
    "    edad = int(input(\"\\tEdad: \"))\n",
    "    sexo = input(\"\\tSexo (m/f)?: \")\n",
    "    \n",
    "    if edad >= 18:\n",
    "        contMayEdad = contMayEdad + 1\n",
    "    else:\n",
    "        contMenEdad = contMenEdad + 1\n",
    "        \n",
    "    if sexo == \"f\" or sexo == \"F\":\n",
    "        contMujeres = contMujeres + 1\n",
    "    else:\n",
    "        contHombres = contHombres + 1\n",
    "        \n",
    "        \n",
    "print(\"Estudiantes mayores de edad:\", contMayEdad)\n",
    "print(\"Estudiantes menores de edad:\", contMenEdad)\n",
    "print(\"Estudiantes mujeres:\", contMujeres)\n",
    "print(\"Estudiantes hombres:\", contHombres)\n",
    "print(\"Se debe aumentar la cuota femenina\") if contHombres > contMujeres else None\n"
   ]
  },
  {
   "cell_type": "markdown",
   "metadata": {},
   "source": []
  },
  {
   "cell_type": "code",
   "execution_count": null,
   "metadata": {},
   "outputs": [],
   "source": [
    "# Ejemplo:\n",
    "# Mostrar, con ciclo while, los numeros del 1 al 10\n",
    "\n",
    "num = 1\n",
    "while num <= 10:\n",
    "    print(num, end=\", \")\n",
    "    num = num + 1"
   ]
  },
  {
   "cell_type": "code",
   "execution_count": 38,
   "metadata": {},
   "outputs": [
    {
     "name": "stdout",
     "output_type": "stream",
     "text": [
      "1, 1, 2, 3, 5, 8, 13, 21, 34, 55, "
     ]
    }
   ],
   "source": [
    "# ejemplo:\n",
    "# Fibonacci fue un matematico que modelo el crecimiento de los conejos mediante la sucesion:\n",
    "# 1, 1, 2, 3, 5, 8, ...\n",
    "# donde fib(1) = 1, fib(2) = 1, fib(3)=2, fib(k) = fib(k-2)+fib(k-1)\n",
    "# Calcule el n-esimo termino de la funcion fibonacci que el usuario ingrese\n",
    "\n",
    "n = int(input(\"Ingrese el termino fibonacci a calcular: \"))\n",
    "if (n < 1):\n",
    "    print(\"Error, Entrada no valida\")\n",
    "elif n == 1:\n",
    "    print(\"1\")\n",
    "elif n == 2:\n",
    "    print(\"1, 1\")\n",
    "else:\n",
    "    ant = 1\n",
    "    sig = 1\n",
    "    temp = 0\n",
    "    print(\"1, 1\", end=\", \")\n",
    "    for i in range(3, n+1):\n",
    "        temp = sig\n",
    "        sig = ant + sig\n",
    "        ant = temp\n",
    "        print(sig, end=\", \")"
   ]
  },
  {
   "cell_type": "code",
   "execution_count": 42,
   "metadata": {},
   "outputs": [
    {
     "name": "stdout",
     "output_type": "stream",
     "text": [
      "Error, entrada no valida\n",
      "Error, entrada no valida\n",
      "Error, entrada no valida\n",
      "Error, entrada no valida\n",
      "Error, entrada no valida\n",
      "Ha ingresado correctamente su sexo:\n"
     ]
    }
   ],
   "source": [
    "# Ejemplo\n",
    "# Código que valide que el usuario haya digitado f para femenino y m para masculino; si no lo hace,\n",
    "# mostrar un mensaje de que se equivocó e intente nuevamente.\n",
    "\n",
    "sexo = input(\"Ingrese su sexo (m/f): \")\n",
    "while(sexo != \"f\" and sexo != \"m\") and (sexo != \"F\" and sexo != \"M\"):\n",
    "    print(\"Error, entrada no valida\")\n",
    "    sexo = input(\"Ingrese su sexo (m/f): \")\n",
    "\n",
    "print(\"Ha ingresado correctamente su sexo:\")\n"
   ]
  },
  {
   "cell_type": "code",
   "execution_count": 46,
   "metadata": {},
   "outputs": [
    {
     "name": "stdout",
     "output_type": "stream",
     "text": [
      "El promedio de notas es:  4.6\n",
      "La mejor nota es:  6\n",
      "La menor nota es:  3\n"
     ]
    }
   ],
   "source": [
    "# Ejemplo:\n",
    "# Un profesor ingresa cierta cantidad de notas de estudiantes (0 a 10), y quiere saber cual es la mejor nota, y la peor nota. cuando no tenga mas notas ingresara un valor menor que 1 para terminar\n",
    "\n",
    "suma = 0\n",
    "nota = int(input(\"Ingrese la nota: \"))\n",
    "cantNotas = 1\n",
    "mejorNota = nota\n",
    "peorNota = nota\n",
    "while nota >= 1:\n",
    "    \n",
    "    suma = suma + nota\n",
    "    nota = int(input(\"Ingrese la nota: \"))\n",
    "    if nota >= 1:\n",
    "        cantNotas = cantNotas + 1\n",
    "        if nota > mejorNota:\n",
    "            mejorNota = nota\n",
    "        elif nota < peorNota:\n",
    "            peorNota = nota\n",
    "            \n",
    "promedio = suma / cantNotas\n",
    "\n",
    "print(\"El promedio de notas es: \", promedio)\n",
    "print(\"La mejor nota es: \", mejorNota)\n",
    "print(\"La menor nota es: \", peorNota)\n",
    "        "
   ]
  }
 ],
 "metadata": {
  "kernelspec": {
   "display_name": "Python 3",
   "language": "python",
   "name": "python3"
  },
  "language_info": {
   "codemirror_mode": {
    "name": "ipython",
    "version": 3
   },
   "file_extension": ".py",
   "mimetype": "text/x-python",
   "name": "python",
   "nbconvert_exporter": "python",
   "pygments_lexer": "ipython3",
   "version": "3.10.12"
  }
 },
 "nbformat": 4,
 "nbformat_minor": 2
}
